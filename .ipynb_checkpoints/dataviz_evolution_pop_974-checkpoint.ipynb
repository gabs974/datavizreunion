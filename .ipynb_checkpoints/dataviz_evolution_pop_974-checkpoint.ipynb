{
 "cells": [
  {
   "cell_type": "code",
   "execution_count": 1,
   "id": "7763a5f1-2c7f-45eb-b4f5-4e93dad423e8",
   "metadata": {},
   "outputs": [],
   "source": [
    "# imports\n",
    "import numpy as np\n",
    "import pandas as pd\n",
    "import plotly.express as px"
   ]
  },
  {
   "cell_type": "code",
   "execution_count": 3,
   "id": "04db07f7-78b0-49f6-8f7f-08d631eedd7b",
   "metadata": {
    "tags": []
   },
   "outputs": [
    {
     "data": {
      "text/html": [
       "<div>\n",
       "<style scoped>\n",
       "    .dataframe tbody tr th:only-of-type {\n",
       "        vertical-align: middle;\n",
       "    }\n",
       "\n",
       "    .dataframe tbody tr th {\n",
       "        vertical-align: top;\n",
       "    }\n",
       "\n",
       "    .dataframe thead th {\n",
       "        text-align: right;\n",
       "    }\n",
       "</style>\n",
       "<table border=\"1\" class=\"dataframe\">\n",
       "  <thead>\n",
       "    <tr style=\"text-align: right;\">\n",
       "      <th></th>\n",
       "      <th>Code région</th>\n",
       "      <th>Nom de la région</th>\n",
       "      <th>Code département</th>\n",
       "      <th>Code arrondissement départemental</th>\n",
       "      <th>Code canton</th>\n",
       "      <th>Code_commune</th>\n",
       "      <th>Nom de la commune</th>\n",
       "      <th>Population municipale</th>\n",
       "      <th>Population comptée à part</th>\n",
       "      <th>Population totale</th>\n",
       "      <th>...</th>\n",
       "      <th>Code INSEE (commune ou arrondissement)</th>\n",
       "      <th>Superficie de la commune</th>\n",
       "      <th>Statut</th>\n",
       "      <th>Code INSEE de la commune</th>\n",
       "      <th>Nom de la commune IGN</th>\n",
       "      <th>Nom du département IGN</th>\n",
       "      <th>Nom de la région.1</th>\n",
       "      <th>Code EPCI</th>\n",
       "      <th>Code EPCI.1</th>\n",
       "      <th>EPCI</th>\n",
       "    </tr>\n",
       "  </thead>\n",
       "  <tbody>\n",
       "    <tr>\n",
       "      <th>0</th>\n",
       "      <td>4</td>\n",
       "      <td>La Réunion</td>\n",
       "      <td>974</td>\n",
       "      <td>3</td>\n",
       "      <td>31</td>\n",
       "      <td>419</td>\n",
       "      <td>Sainte-Rose</td>\n",
       "      <td>6809</td>\n",
       "      <td>71</td>\n",
       "      <td>6880</td>\n",
       "      <td>...</td>\n",
       "      <td>97419</td>\n",
       "      <td>178.21</td>\n",
       "      <td>Commune</td>\n",
       "      <td>97419</td>\n",
       "      <td>Sainte-Rose</td>\n",
       "      <td>LA REUNION</td>\n",
       "      <td>LA REUNION</td>\n",
       "      <td>0.0</td>\n",
       "      <td>0.0</td>\n",
       "      <td>0</td>\n",
       "    </tr>\n",
       "    <tr>\n",
       "      <th>1</th>\n",
       "      <td>4</td>\n",
       "      <td>La Réunion</td>\n",
       "      <td>974</td>\n",
       "      <td>2</td>\n",
       "      <td>5</td>\n",
       "      <td>405</td>\n",
       "      <td>Petite-Île</td>\n",
       "      <td>11582</td>\n",
       "      <td>109</td>\n",
       "      <td>11691</td>\n",
       "      <td>...</td>\n",
       "      <td>97405</td>\n",
       "      <td>33.83</td>\n",
       "      <td>Commune</td>\n",
       "      <td>97405</td>\n",
       "      <td>Petite-Île</td>\n",
       "      <td>LA REUNION</td>\n",
       "      <td>LA REUNION</td>\n",
       "      <td>0.0</td>\n",
       "      <td>0.0</td>\n",
       "      <td>0</td>\n",
       "    </tr>\n",
       "    <tr>\n",
       "      <th>2</th>\n",
       "      <td>4</td>\n",
       "      <td>La Réunion</td>\n",
       "      <td>974</td>\n",
       "      <td>3</td>\n",
       "      <td>6</td>\n",
       "      <td>402</td>\n",
       "      <td>Bras-Panon</td>\n",
       "      <td>12616</td>\n",
       "      <td>151</td>\n",
       "      <td>12767</td>\n",
       "      <td>...</td>\n",
       "      <td>97402</td>\n",
       "      <td>87.26</td>\n",
       "      <td>Commune</td>\n",
       "      <td>97402</td>\n",
       "      <td>Bras-Panon</td>\n",
       "      <td>LA REUNION</td>\n",
       "      <td>LA REUNION</td>\n",
       "      <td>249740093.0</td>\n",
       "      <td>249740093.0</td>\n",
       "      <td>CA Intercommunale de la Réunion Est</td>\n",
       "    </tr>\n",
       "    <tr>\n",
       "      <th>3</th>\n",
       "      <td>4</td>\n",
       "      <td>La Réunion</td>\n",
       "      <td>974</td>\n",
       "      <td>3</td>\n",
       "      <td>8</td>\n",
       "      <td>419</td>\n",
       "      <td>Sainte-Rose</td>\n",
       "      <td>6782</td>\n",
       "      <td>85</td>\n",
       "      <td>6867</td>\n",
       "      <td>...</td>\n",
       "      <td>97419</td>\n",
       "      <td>178.21</td>\n",
       "      <td>Commune</td>\n",
       "      <td>97419</td>\n",
       "      <td>Sainte-Rose</td>\n",
       "      <td>LA REUNION</td>\n",
       "      <td>LA REUNION</td>\n",
       "      <td>249740093.0</td>\n",
       "      <td>249740093.0</td>\n",
       "      <td>CA Intercommunale de la Réunion Est</td>\n",
       "    </tr>\n",
       "    <tr>\n",
       "      <th>4</th>\n",
       "      <td>4</td>\n",
       "      <td>La Réunion</td>\n",
       "      <td>974</td>\n",
       "      <td>3</td>\n",
       "      <td>90</td>\n",
       "      <td>410</td>\n",
       "      <td>Saint-Benoît</td>\n",
       "      <td>35733</td>\n",
       "      <td>238</td>\n",
       "      <td>35971</td>\n",
       "      <td>...</td>\n",
       "      <td>97410</td>\n",
       "      <td>229.79</td>\n",
       "      <td>Commune</td>\n",
       "      <td>97410</td>\n",
       "      <td>Saint-Benoît</td>\n",
       "      <td>LA REUNION</td>\n",
       "      <td>LA REUNION</td>\n",
       "      <td>0.0</td>\n",
       "      <td>0.0</td>\n",
       "      <td>0</td>\n",
       "    </tr>\n",
       "  </tbody>\n",
       "</table>\n",
       "<p>5 rows × 22 columns</p>\n",
       "</div>"
      ],
      "text/plain": [
       "   Code région Nom de la région  Code département  \\\n",
       "0            4       La Réunion               974   \n",
       "1            4       La Réunion               974   \n",
       "2            4       La Réunion               974   \n",
       "3            4       La Réunion               974   \n",
       "4            4       La Réunion               974   \n",
       "\n",
       "   Code arrondissement départemental  Code canton  Code_commune  \\\n",
       "0                                  3           31           419   \n",
       "1                                  2            5           405   \n",
       "2                                  3            6           402   \n",
       "3                                  3            8           419   \n",
       "4                                  3           90           410   \n",
       "\n",
       "  Nom de la commune  Population municipale  Population comptée à part  \\\n",
       "0       Sainte-Rose                   6809                         71   \n",
       "1        Petite-Île                  11582                        109   \n",
       "2        Bras-Panon                  12616                        151   \n",
       "3       Sainte-Rose                   6782                         85   \n",
       "4      Saint-Benoît                  35733                        238   \n",
       "\n",
       "   Population totale  ...  Code INSEE (commune ou arrondissement)  \\\n",
       "0               6880  ...                                   97419   \n",
       "1              11691  ...                                   97405   \n",
       "2              12767  ...                                   97402   \n",
       "3               6867  ...                                   97419   \n",
       "4              35971  ...                                   97410   \n",
       "\n",
       "   Superficie de la commune   Statut  Code INSEE de la commune  \\\n",
       "0                    178.21  Commune                     97419   \n",
       "1                     33.83  Commune                     97405   \n",
       "2                     87.26  Commune                     97402   \n",
       "3                    178.21  Commune                     97419   \n",
       "4                    229.79  Commune                     97410   \n",
       "\n",
       "  Nom de la commune IGN  Nom du département IGN Nom de la région.1  \\\n",
       "0           Sainte-Rose              LA REUNION         LA REUNION   \n",
       "1            Petite-Île              LA REUNION         LA REUNION   \n",
       "2            Bras-Panon              LA REUNION         LA REUNION   \n",
       "3           Sainte-Rose              LA REUNION         LA REUNION   \n",
       "4          Saint-Benoît              LA REUNION         LA REUNION   \n",
       "\n",
       "     Code EPCI  Code EPCI.1                                 EPCI  \n",
       "0          0.0          0.0                                    0  \n",
       "1          0.0          0.0                                    0  \n",
       "2  249740093.0  249740093.0  CA Intercommunale de la Réunion Est  \n",
       "3  249740093.0  249740093.0  CA Intercommunale de la Réunion Est  \n",
       "4          0.0          0.0                                    0  \n",
       "\n",
       "[5 rows x 22 columns]"
      ]
     },
     "execution_count": 3,
     "metadata": {},
     "output_type": "execute_result"
    }
   ],
   "source": [
    "# dataset\n",
    "population = (pd.read_csv(\"C:/Users/gael.lisador/Desktop/Hackathon/datavizreunion/population-francaise-communespublic.csv\",encoding=\"ISO-8859-1\",\n",
    "                 sep=\"\\t\", na_values=\"-\")\n",
    "           .fillna(0)\n",
    "          )\n",
    "\n",
    "population.head()"
   ]
  },
  {
   "cell_type": "code",
   "execution_count": null,
   "id": "0d7a7744-3308-49d2-8a0c-1727355045b2",
   "metadata": {},
   "outputs": [],
   "source": [
    "Répartition de la population/commune"
   ]
  },
  {
   "cell_type": "code",
   "execution_count": 5,
   "id": "2365c8cf-56a8-4e6b-919a-06439ce5775f",
   "metadata": {
    "tags": []
   },
   "outputs": [
    {
     "data": {
      "application/vnd.plotly.v1+json": {
       "config": {
        "plotlyServerURL": "https://plot.ly"
       },
       "data": [
        {
         "branchvalues": "total",
         "domain": {
          "x": [
           0,
           1
          ],
          "y": [
           0,
           1
          ]
         },
         "hovertemplate": "labels=%{label}<br>Population totale=%{value}<br>parent=%{parent}<br>id=%{id}<extra></extra>",
         "ids": [
          "Bras-Panon",
          "Cilaos",
          "Entre-Deux",
          "L' Étang-Salé",
          "La Plaine-des-Palmistes",
          "La Possession",
          "Le Port",
          "Le Tampon",
          "Les Avirons",
          "Les Trois-Bassins",
          "Petite-Île",
          "Saint-André",
          "Saint-Benoît",
          "Saint-Denis",
          "Saint-Joseph",
          "Saint-Leu",
          "Saint-Louis",
          "Saint-Paul",
          "Saint-Philippe",
          "Saint-Pierre",
          "Sainte-Marie",
          "Sainte-Rose",
          "Sainte-Suzanne",
          "Salazie"
         ],
         "labels": [
          "Bras-Panon",
          "Cilaos",
          "Entre-Deux",
          "L' Étang-Salé",
          "La Plaine-des-Palmistes",
          "La Possession",
          "Le Port",
          "Le Tampon",
          "Les Avirons",
          "Les Trois-Bassins",
          "Petite-Île",
          "Saint-André",
          "Saint-Benoît",
          "Saint-Denis",
          "Saint-Joseph",
          "Saint-Leu",
          "Saint-Louis",
          "Saint-Paul",
          "Saint-Philippe",
          "Saint-Pierre",
          "Sainte-Marie",
          "Sainte-Rose",
          "Sainte-Suzanne",
          "Salazie"
         ],
         "name": "",
         "parents": [
          "",
          "",
          "",
          "",
          "",
          "",
          "",
          "",
          "",
          "",
          "",
          "",
          "",
          "",
          "",
          "",
          "",
          "",
          "",
          "",
          "",
          "",
          "",
          ""
         ],
         "type": "treemap",
         "values": [
          133642,
          62999,
          70281,
          152391,
          60566,
          337904,
          411129,
          825837,
          119538,
          79250,
          130205,
          601128,
          394936,
          1602503,
          404082,
          353022,
          577142,
          1155365,
          56712,
          884444,
          350485,
          74862,
          248817,
          81355
         ]
        }
       ],
       "layout": {
        "autosize": true,
        "legend": {
         "tracegroupgap": 0
        },
        "margin": {
         "t": 60
        },
        "template": {
         "data": {
          "bar": [
           {
            "error_x": {
             "color": "#2a3f5f"
            },
            "error_y": {
             "color": "#2a3f5f"
            },
            "marker": {
             "line": {
              "color": "#E5ECF6",
              "width": 0.5
             },
             "pattern": {
              "fillmode": "overlay",
              "size": 10,
              "solidity": 0.2
             }
            },
            "type": "bar"
           }
          ],
          "barpolar": [
           {
            "marker": {
             "line": {
              "color": "#E5ECF6",
              "width": 0.5
             },
             "pattern": {
              "fillmode": "overlay",
              "size": 10,
              "solidity": 0.2
             }
            },
            "type": "barpolar"
           }
          ],
          "carpet": [
           {
            "aaxis": {
             "endlinecolor": "#2a3f5f",
             "gridcolor": "white",
             "linecolor": "white",
             "minorgridcolor": "white",
             "startlinecolor": "#2a3f5f"
            },
            "baxis": {
             "endlinecolor": "#2a3f5f",
             "gridcolor": "white",
             "linecolor": "white",
             "minorgridcolor": "white",
             "startlinecolor": "#2a3f5f"
            },
            "type": "carpet"
           }
          ],
          "choropleth": [
           {
            "colorbar": {
             "outlinewidth": 0,
             "ticks": ""
            },
            "type": "choropleth"
           }
          ],
          "contour": [
           {
            "colorbar": {
             "outlinewidth": 0,
             "ticks": ""
            },
            "colorscale": [
             [
              0,
              "#0d0887"
             ],
             [
              0.1111111111111111,
              "#46039f"
             ],
             [
              0.2222222222222222,
              "#7201a8"
             ],
             [
              0.3333333333333333,
              "#9c179e"
             ],
             [
              0.4444444444444444,
              "#bd3786"
             ],
             [
              0.5555555555555556,
              "#d8576b"
             ],
             [
              0.6666666666666666,
              "#ed7953"
             ],
             [
              0.7777777777777778,
              "#fb9f3a"
             ],
             [
              0.8888888888888888,
              "#fdca26"
             ],
             [
              1,
              "#f0f921"
             ]
            ],
            "type": "contour"
           }
          ],
          "contourcarpet": [
           {
            "colorbar": {
             "outlinewidth": 0,
             "ticks": ""
            },
            "type": "contourcarpet"
           }
          ],
          "heatmap": [
           {
            "colorbar": {
             "outlinewidth": 0,
             "ticks": ""
            },
            "colorscale": [
             [
              0,
              "#0d0887"
             ],
             [
              0.1111111111111111,
              "#46039f"
             ],
             [
              0.2222222222222222,
              "#7201a8"
             ],
             [
              0.3333333333333333,
              "#9c179e"
             ],
             [
              0.4444444444444444,
              "#bd3786"
             ],
             [
              0.5555555555555556,
              "#d8576b"
             ],
             [
              0.6666666666666666,
              "#ed7953"
             ],
             [
              0.7777777777777778,
              "#fb9f3a"
             ],
             [
              0.8888888888888888,
              "#fdca26"
             ],
             [
              1,
              "#f0f921"
             ]
            ],
            "type": "heatmap"
           }
          ],
          "heatmapgl": [
           {
            "colorbar": {
             "outlinewidth": 0,
             "ticks": ""
            },
            "colorscale": [
             [
              0,
              "#0d0887"
             ],
             [
              0.1111111111111111,
              "#46039f"
             ],
             [
              0.2222222222222222,
              "#7201a8"
             ],
             [
              0.3333333333333333,
              "#9c179e"
             ],
             [
              0.4444444444444444,
              "#bd3786"
             ],
             [
              0.5555555555555556,
              "#d8576b"
             ],
             [
              0.6666666666666666,
              "#ed7953"
             ],
             [
              0.7777777777777778,
              "#fb9f3a"
             ],
             [
              0.8888888888888888,
              "#fdca26"
             ],
             [
              1,
              "#f0f921"
             ]
            ],
            "type": "heatmapgl"
           }
          ],
          "histogram": [
           {
            "marker": {
             "pattern": {
              "fillmode": "overlay",
              "size": 10,
              "solidity": 0.2
             }
            },
            "type": "histogram"
           }
          ],
          "histogram2d": [
           {
            "colorbar": {
             "outlinewidth": 0,
             "ticks": ""
            },
            "colorscale": [
             [
              0,
              "#0d0887"
             ],
             [
              0.1111111111111111,
              "#46039f"
             ],
             [
              0.2222222222222222,
              "#7201a8"
             ],
             [
              0.3333333333333333,
              "#9c179e"
             ],
             [
              0.4444444444444444,
              "#bd3786"
             ],
             [
              0.5555555555555556,
              "#d8576b"
             ],
             [
              0.6666666666666666,
              "#ed7953"
             ],
             [
              0.7777777777777778,
              "#fb9f3a"
             ],
             [
              0.8888888888888888,
              "#fdca26"
             ],
             [
              1,
              "#f0f921"
             ]
            ],
            "type": "histogram2d"
           }
          ],
          "histogram2dcontour": [
           {
            "colorbar": {
             "outlinewidth": 0,
             "ticks": ""
            },
            "colorscale": [
             [
              0,
              "#0d0887"
             ],
             [
              0.1111111111111111,
              "#46039f"
             ],
             [
              0.2222222222222222,
              "#7201a8"
             ],
             [
              0.3333333333333333,
              "#9c179e"
             ],
             [
              0.4444444444444444,
              "#bd3786"
             ],
             [
              0.5555555555555556,
              "#d8576b"
             ],
             [
              0.6666666666666666,
              "#ed7953"
             ],
             [
              0.7777777777777778,
              "#fb9f3a"
             ],
             [
              0.8888888888888888,
              "#fdca26"
             ],
             [
              1,
              "#f0f921"
             ]
            ],
            "type": "histogram2dcontour"
           }
          ],
          "mesh3d": [
           {
            "colorbar": {
             "outlinewidth": 0,
             "ticks": ""
            },
            "type": "mesh3d"
           }
          ],
          "parcoords": [
           {
            "line": {
             "colorbar": {
              "outlinewidth": 0,
              "ticks": ""
             }
            },
            "type": "parcoords"
           }
          ],
          "pie": [
           {
            "automargin": true,
            "type": "pie"
           }
          ],
          "scatter": [
           {
            "fillpattern": {
             "fillmode": "overlay",
             "size": 10,
             "solidity": 0.2
            },
            "type": "scatter"
           }
          ],
          "scatter3d": [
           {
            "line": {
             "colorbar": {
              "outlinewidth": 0,
              "ticks": ""
             }
            },
            "marker": {
             "colorbar": {
              "outlinewidth": 0,
              "ticks": ""
             }
            },
            "type": "scatter3d"
           }
          ],
          "scattercarpet": [
           {
            "marker": {
             "colorbar": {
              "outlinewidth": 0,
              "ticks": ""
             }
            },
            "type": "scattercarpet"
           }
          ],
          "scattergeo": [
           {
            "marker": {
             "colorbar": {
              "outlinewidth": 0,
              "ticks": ""
             }
            },
            "type": "scattergeo"
           }
          ],
          "scattergl": [
           {
            "marker": {
             "colorbar": {
              "outlinewidth": 0,
              "ticks": ""
             }
            },
            "type": "scattergl"
           }
          ],
          "scattermapbox": [
           {
            "marker": {
             "colorbar": {
              "outlinewidth": 0,
              "ticks": ""
             }
            },
            "type": "scattermapbox"
           }
          ],
          "scatterpolar": [
           {
            "marker": {
             "colorbar": {
              "outlinewidth": 0,
              "ticks": ""
             }
            },
            "type": "scatterpolar"
           }
          ],
          "scatterpolargl": [
           {
            "marker": {
             "colorbar": {
              "outlinewidth": 0,
              "ticks": ""
             }
            },
            "type": "scatterpolargl"
           }
          ],
          "scatterternary": [
           {
            "marker": {
             "colorbar": {
              "outlinewidth": 0,
              "ticks": ""
             }
            },
            "type": "scatterternary"
           }
          ],
          "surface": [
           {
            "colorbar": {
             "outlinewidth": 0,
             "ticks": ""
            },
            "colorscale": [
             [
              0,
              "#0d0887"
             ],
             [
              0.1111111111111111,
              "#46039f"
             ],
             [
              0.2222222222222222,
              "#7201a8"
             ],
             [
              0.3333333333333333,
              "#9c179e"
             ],
             [
              0.4444444444444444,
              "#bd3786"
             ],
             [
              0.5555555555555556,
              "#d8576b"
             ],
             [
              0.6666666666666666,
              "#ed7953"
             ],
             [
              0.7777777777777778,
              "#fb9f3a"
             ],
             [
              0.8888888888888888,
              "#fdca26"
             ],
             [
              1,
              "#f0f921"
             ]
            ],
            "type": "surface"
           }
          ],
          "table": [
           {
            "cells": {
             "fill": {
              "color": "#EBF0F8"
             },
             "line": {
              "color": "white"
             }
            },
            "header": {
             "fill": {
              "color": "#C8D4E3"
             },
             "line": {
              "color": "white"
             }
            },
            "type": "table"
           }
          ]
         },
         "layout": {
          "annotationdefaults": {
           "arrowcolor": "#2a3f5f",
           "arrowhead": 0,
           "arrowwidth": 1
          },
          "autotypenumbers": "strict",
          "coloraxis": {
           "colorbar": {
            "outlinewidth": 0,
            "ticks": ""
           }
          },
          "colorscale": {
           "diverging": [
            [
             0,
             "#8e0152"
            ],
            [
             0.1,
             "#c51b7d"
            ],
            [
             0.2,
             "#de77ae"
            ],
            [
             0.3,
             "#f1b6da"
            ],
            [
             0.4,
             "#fde0ef"
            ],
            [
             0.5,
             "#f7f7f7"
            ],
            [
             0.6,
             "#e6f5d0"
            ],
            [
             0.7,
             "#b8e186"
            ],
            [
             0.8,
             "#7fbc41"
            ],
            [
             0.9,
             "#4d9221"
            ],
            [
             1,
             "#276419"
            ]
           ],
           "sequential": [
            [
             0,
             "#0d0887"
            ],
            [
             0.1111111111111111,
             "#46039f"
            ],
            [
             0.2222222222222222,
             "#7201a8"
            ],
            [
             0.3333333333333333,
             "#9c179e"
            ],
            [
             0.4444444444444444,
             "#bd3786"
            ],
            [
             0.5555555555555556,
             "#d8576b"
            ],
            [
             0.6666666666666666,
             "#ed7953"
            ],
            [
             0.7777777777777778,
             "#fb9f3a"
            ],
            [
             0.8888888888888888,
             "#fdca26"
            ],
            [
             1,
             "#f0f921"
            ]
           ],
           "sequentialminus": [
            [
             0,
             "#0d0887"
            ],
            [
             0.1111111111111111,
             "#46039f"
            ],
            [
             0.2222222222222222,
             "#7201a8"
            ],
            [
             0.3333333333333333,
             "#9c179e"
            ],
            [
             0.4444444444444444,
             "#bd3786"
            ],
            [
             0.5555555555555556,
             "#d8576b"
            ],
            [
             0.6666666666666666,
             "#ed7953"
            ],
            [
             0.7777777777777778,
             "#fb9f3a"
            ],
            [
             0.8888888888888888,
             "#fdca26"
            ],
            [
             1,
             "#f0f921"
            ]
           ]
          },
          "colorway": [
           "#636efa",
           "#EF553B",
           "#00cc96",
           "#ab63fa",
           "#FFA15A",
           "#19d3f3",
           "#FF6692",
           "#B6E880",
           "#FF97FF",
           "#FECB52"
          ],
          "font": {
           "color": "#2a3f5f"
          },
          "geo": {
           "bgcolor": "white",
           "lakecolor": "white",
           "landcolor": "#E5ECF6",
           "showlakes": true,
           "showland": true,
           "subunitcolor": "white"
          },
          "hoverlabel": {
           "align": "left"
          },
          "hovermode": "closest",
          "mapbox": {
           "style": "light"
          },
          "paper_bgcolor": "white",
          "plot_bgcolor": "#E5ECF6",
          "polar": {
           "angularaxis": {
            "gridcolor": "white",
            "linecolor": "white",
            "ticks": ""
           },
           "bgcolor": "#E5ECF6",
           "radialaxis": {
            "gridcolor": "white",
            "linecolor": "white",
            "ticks": ""
           }
          },
          "scene": {
           "xaxis": {
            "backgroundcolor": "#E5ECF6",
            "gridcolor": "white",
            "gridwidth": 2,
            "linecolor": "white",
            "showbackground": true,
            "ticks": "",
            "zerolinecolor": "white"
           },
           "yaxis": {
            "backgroundcolor": "#E5ECF6",
            "gridcolor": "white",
            "gridwidth": 2,
            "linecolor": "white",
            "showbackground": true,
            "ticks": "",
            "zerolinecolor": "white"
           },
           "zaxis": {
            "backgroundcolor": "#E5ECF6",
            "gridcolor": "white",
            "gridwidth": 2,
            "linecolor": "white",
            "showbackground": true,
            "ticks": "",
            "zerolinecolor": "white"
           }
          },
          "shapedefaults": {
           "line": {
            "color": "#2a3f5f"
           }
          },
          "ternary": {
           "aaxis": {
            "gridcolor": "white",
            "linecolor": "white",
            "ticks": ""
           },
           "baxis": {
            "gridcolor": "white",
            "linecolor": "white",
            "ticks": ""
           },
           "bgcolor": "#E5ECF6",
           "caxis": {
            "gridcolor": "white",
            "linecolor": "white",
            "ticks": ""
           }
          },
          "title": {
           "x": 0.05
          },
          "xaxis": {
           "automargin": true,
           "gridcolor": "white",
           "linecolor": "white",
           "ticks": "",
           "title": {
            "standoff": 15
           },
           "zerolinecolor": "white",
           "zerolinewidth": 2
          },
          "yaxis": {
           "automargin": true,
           "gridcolor": "white",
           "linecolor": "white",
           "ticks": "",
           "title": {
            "standoff": 15
           },
           "zerolinecolor": "white",
           "zerolinewidth": 2
          }
         }
        }
       }
      },
      "image/png": "[encoded data removed]",
      "text/html": [
       "<div>                            <div id=\"a7cf99ce-1853-4a0d-a916-7465d6507401\" class=\"plotly-graph-div\" style=\"height:525px; width:100%;\"></div>            <script type=\"text/javascript\">                require([\"plotly\"], function(Plotly) {                    window.PLOTLYENV=window.PLOTLYENV || {};                                    if (document.getElementById(\"a7cf99ce-1853-4a0d-a916-7465d6507401\")) {                    Plotly.newPlot(                        \"a7cf99ce-1853-4a0d-a916-7465d6507401\",                        [{\"branchvalues\":\"total\",\"domain\":{\"x\":[0.0,1.0],\"y\":[0.0,1.0]},\"hovertemplate\":\"labels=%{label}<br>Population totale=%{value}<br>parent=%{parent}<br>id=%{id}<extra></extra>\",\"ids\":[\"Bras-Panon\",\"Cilaos\",\"Entre-Deux\",\"L' \\u00c9tang-Sal\\u00e9\",\"La Plaine-des-Palmistes\",\"La Possession\",\"Le Port\",\"Le Tampon\",\"Les Avirons\",\"Les Trois-Bassins\",\"Petite-\\u00cele\",\"Saint-Andr\\u00e9\",\"Saint-Beno\\u00eet\",\"Saint-Denis\",\"Saint-Joseph\",\"Saint-Leu\",\"Saint-Louis\",\"Saint-Paul\",\"Saint-Philippe\",\"Saint-Pierre\",\"Sainte-Marie\",\"Sainte-Rose\",\"Sainte-Suzanne\",\"Salazie\"],\"labels\":[\"Bras-Panon\",\"Cilaos\",\"Entre-Deux\",\"L' \\u00c9tang-Sal\\u00e9\",\"La Plaine-des-Palmistes\",\"La Possession\",\"Le Port\",\"Le Tampon\",\"Les Avirons\",\"Les Trois-Bassins\",\"Petite-\\u00cele\",\"Saint-Andr\\u00e9\",\"Saint-Beno\\u00eet\",\"Saint-Denis\",\"Saint-Joseph\",\"Saint-Leu\",\"Saint-Louis\",\"Saint-Paul\",\"Saint-Philippe\",\"Saint-Pierre\",\"Sainte-Marie\",\"Sainte-Rose\",\"Sainte-Suzanne\",\"Salazie\"],\"name\":\"\",\"parents\":[\"\",\"\",\"\",\"\",\"\",\"\",\"\",\"\",\"\",\"\",\"\",\"\",\"\",\"\",\"\",\"\",\"\",\"\",\"\",\"\",\"\",\"\",\"\",\"\"],\"values\":[133642,62999,70281,152391,60566,337904,411129,825837,119538,79250,130205,601128,394936,1602503,404082,353022,577142,1155365,56712,884444,350485,74862,248817,81355],\"type\":\"treemap\"}],                        {\"template\":{\"data\":{\"histogram2dcontour\":[{\"type\":\"histogram2dcontour\",\"colorbar\":{\"outlinewidth\":0,\"ticks\":\"\"},\"colorscale\":[[0.0,\"#0d0887\"],[0.1111111111111111,\"#46039f\"],[0.2222222222222222,\"#7201a8\"],[0.3333333333333333,\"#9c179e\"],[0.4444444444444444,\"#bd3786\"],[0.5555555555555556,\"#d8576b\"],[0.6666666666666666,\"#ed7953\"],[0.7777777777777778,\"#fb9f3a\"],[0.8888888888888888,\"#fdca26\"],[1.0,\"#f0f921\"]]}],\"choropleth\":[{\"type\":\"choropleth\",\"colorbar\":{\"outlinewidth\":0,\"ticks\":\"\"}}],\"histogram2d\":[{\"type\":\"histogram2d\",\"colorbar\":{\"outlinewidth\":0,\"ticks\":\"\"},\"colorscale\":[[0.0,\"#0d0887\"],[0.1111111111111111,\"#46039f\"],[0.2222222222222222,\"#7201a8\"],[0.3333333333333333,\"#9c179e\"],[0.4444444444444444,\"#bd3786\"],[0.5555555555555556,\"#d8576b\"],[0.6666666666666666,\"#ed7953\"],[0.7777777777777778,\"#fb9f3a\"],[0.8888888888888888,\"#fdca26\"],[1.0,\"#f0f921\"]]}],\"heatmap\":[{\"type\":\"heatmap\",\"colorbar\":{\"outlinewidth\":0,\"ticks\":\"\"},\"colorscale\":[[0.0,\"#0d0887\"],[0.1111111111111111,\"#46039f\"],[0.2222222222222222,\"#7201a8\"],[0.3333333333333333,\"#9c179e\"],[0.4444444444444444,\"#bd3786\"],[0.5555555555555556,\"#d8576b\"],[0.6666666666666666,\"#ed7953\"],[0.7777777777777778,\"#fb9f3a\"],[0.8888888888888888,\"#fdca26\"],[1.0,\"#f0f921\"]]}],\"heatmapgl\":[{\"type\":\"heatmapgl\",\"colorbar\":{\"outlinewidth\":0,\"ticks\":\"\"},\"colorscale\":[[0.0,\"#0d0887\"],[0.1111111111111111,\"#46039f\"],[0.2222222222222222,\"#7201a8\"],[0.3333333333333333,\"#9c179e\"],[0.4444444444444444,\"#bd3786\"],[0.5555555555555556,\"#d8576b\"],[0.6666666666666666,\"#ed7953\"],[0.7777777777777778,\"#fb9f3a\"],[0.8888888888888888,\"#fdca26\"],[1.0,\"#f0f921\"]]}],\"contourcarpet\":[{\"type\":\"contourcarpet\",\"colorbar\":{\"outlinewidth\":0,\"ticks\":\"\"}}],\"contour\":[{\"type\":\"contour\",\"colorbar\":{\"outlinewidth\":0,\"ticks\":\"\"},\"colorscale\":[[0.0,\"#0d0887\"],[0.1111111111111111,\"#46039f\"],[0.2222222222222222,\"#7201a8\"],[0.3333333333333333,\"#9c179e\"],[0.4444444444444444,\"#bd3786\"],[0.5555555555555556,\"#d8576b\"],[0.6666666666666666,\"#ed7953\"],[0.7777777777777778,\"#fb9f3a\"],[0.8888888888888888,\"#fdca26\"],[1.0,\"#f0f921\"]]}],\"surface\":[{\"type\":\"surface\",\"colorbar\":{\"outlinewidth\":0,\"ticks\":\"\"},\"colorscale\":[[0.0,\"#0d0887\"],[0.1111111111111111,\"#46039f\"],[0.2222222222222222,\"#7201a8\"],[0.3333333333333333,\"#9c179e\"],[0.4444444444444444,\"#bd3786\"],[0.5555555555555556,\"#d8576b\"],[0.6666666666666666,\"#ed7953\"],[0.7777777777777778,\"#fb9f3a\"],[0.8888888888888888,\"#fdca26\"],[1.0,\"#f0f921\"]]}],\"mesh3d\":[{\"type\":\"mesh3d\",\"colorbar\":{\"outlinewidth\":0,\"ticks\":\"\"}}],\"scatter\":[{\"fillpattern\":{\"fillmode\":\"overlay\",\"size\":10,\"solidity\":0.2},\"type\":\"scatter\"}],\"parcoords\":[{\"type\":\"parcoords\",\"line\":{\"colorbar\":{\"outlinewidth\":0,\"ticks\":\"\"}}}],\"scatterpolargl\":[{\"type\":\"scatterpolargl\",\"marker\":{\"colorbar\":{\"outlinewidth\":0,\"ticks\":\"\"}}}],\"bar\":[{\"error_x\":{\"color\":\"#2a3f5f\"},\"error_y\":{\"color\":\"#2a3f5f\"},\"marker\":{\"line\":{\"color\":\"#E5ECF6\",\"width\":0.5},\"pattern\":{\"fillmode\":\"overlay\",\"size\":10,\"solidity\":0.2}},\"type\":\"bar\"}],\"scattergeo\":[{\"type\":\"scattergeo\",\"marker\":{\"colorbar\":{\"outlinewidth\":0,\"ticks\":\"\"}}}],\"scatterpolar\":[{\"type\":\"scatterpolar\",\"marker\":{\"colorbar\":{\"outlinewidth\":0,\"ticks\":\"\"}}}],\"histogram\":[{\"marker\":{\"pattern\":{\"fillmode\":\"overlay\",\"size\":10,\"solidity\":0.2}},\"type\":\"histogram\"}],\"scattergl\":[{\"type\":\"scattergl\",\"marker\":{\"colorbar\":{\"outlinewidth\":0,\"ticks\":\"\"}}}],\"scatter3d\":[{\"type\":\"scatter3d\",\"line\":{\"colorbar\":{\"outlinewidth\":0,\"ticks\":\"\"}},\"marker\":{\"colorbar\":{\"outlinewidth\":0,\"ticks\":\"\"}}}],\"scattermapbox\":[{\"type\":\"scattermapbox\",\"marker\":{\"colorbar\":{\"outlinewidth\":0,\"ticks\":\"\"}}}],\"scatterternary\":[{\"type\":\"scatterternary\",\"marker\":{\"colorbar\":{\"outlinewidth\":0,\"ticks\":\"\"}}}],\"scattercarpet\":[{\"type\":\"scattercarpet\",\"marker\":{\"colorbar\":{\"outlinewidth\":0,\"ticks\":\"\"}}}],\"carpet\":[{\"aaxis\":{\"endlinecolor\":\"#2a3f5f\",\"gridcolor\":\"white\",\"linecolor\":\"white\",\"minorgridcolor\":\"white\",\"startlinecolor\":\"#2a3f5f\"},\"baxis\":{\"endlinecolor\":\"#2a3f5f\",\"gridcolor\":\"white\",\"linecolor\":\"white\",\"minorgridcolor\":\"white\",\"startlinecolor\":\"#2a3f5f\"},\"type\":\"carpet\"}],\"table\":[{\"cells\":{\"fill\":{\"color\":\"#EBF0F8\"},\"line\":{\"color\":\"white\"}},\"header\":{\"fill\":{\"color\":\"#C8D4E3\"},\"line\":{\"color\":\"white\"}},\"type\":\"table\"}],\"barpolar\":[{\"marker\":{\"line\":{\"color\":\"#E5ECF6\",\"width\":0.5},\"pattern\":{\"fillmode\":\"overlay\",\"size\":10,\"solidity\":0.2}},\"type\":\"barpolar\"}],\"pie\":[{\"automargin\":true,\"type\":\"pie\"}]},\"layout\":{\"autotypenumbers\":\"strict\",\"colorway\":[\"#636efa\",\"#EF553B\",\"#00cc96\",\"#ab63fa\",\"#FFA15A\",\"#19d3f3\",\"#FF6692\",\"#B6E880\",\"#FF97FF\",\"#FECB52\"],\"font\":{\"color\":\"#2a3f5f\"},\"hovermode\":\"closest\",\"hoverlabel\":{\"align\":\"left\"},\"paper_bgcolor\":\"white\",\"plot_bgcolor\":\"#E5ECF6\",\"polar\":{\"bgcolor\":\"#E5ECF6\",\"angularaxis\":{\"gridcolor\":\"white\",\"linecolor\":\"white\",\"ticks\":\"\"},\"radialaxis\":{\"gridcolor\":\"white\",\"linecolor\":\"white\",\"ticks\":\"\"}},\"ternary\":{\"bgcolor\":\"#E5ECF6\",\"aaxis\":{\"gridcolor\":\"white\",\"linecolor\":\"white\",\"ticks\":\"\"},\"baxis\":{\"gridcolor\":\"white\",\"linecolor\":\"white\",\"ticks\":\"\"},\"caxis\":{\"gridcolor\":\"white\",\"linecolor\":\"white\",\"ticks\":\"\"}},\"coloraxis\":{\"colorbar\":{\"outlinewidth\":0,\"ticks\":\"\"}},\"colorscale\":{\"sequential\":[[0.0,\"#0d0887\"],[0.1111111111111111,\"#46039f\"],[0.2222222222222222,\"#7201a8\"],[0.3333333333333333,\"#9c179e\"],[0.4444444444444444,\"#bd3786\"],[0.5555555555555556,\"#d8576b\"],[0.6666666666666666,\"#ed7953\"],[0.7777777777777778,\"#fb9f3a\"],[0.8888888888888888,\"#fdca26\"],[1.0,\"#f0f921\"]],\"sequentialminus\":[[0.0,\"#0d0887\"],[0.1111111111111111,\"#46039f\"],[0.2222222222222222,\"#7201a8\"],[0.3333333333333333,\"#9c179e\"],[0.4444444444444444,\"#bd3786\"],[0.5555555555555556,\"#d8576b\"],[0.6666666666666666,\"#ed7953\"],[0.7777777777777778,\"#fb9f3a\"],[0.8888888888888888,\"#fdca26\"],[1.0,\"#f0f921\"]],\"diverging\":[[0,\"#8e0152\"],[0.1,\"#c51b7d\"],[0.2,\"#de77ae\"],[0.3,\"#f1b6da\"],[0.4,\"#fde0ef\"],[0.5,\"#f7f7f7\"],[0.6,\"#e6f5d0\"],[0.7,\"#b8e186\"],[0.8,\"#7fbc41\"],[0.9,\"#4d9221\"],[1,\"#276419\"]]},\"xaxis\":{\"gridcolor\":\"white\",\"linecolor\":\"white\",\"ticks\":\"\",\"title\":{\"standoff\":15},\"zerolinecolor\":\"white\",\"automargin\":true,\"zerolinewidth\":2},\"yaxis\":{\"gridcolor\":\"white\",\"linecolor\":\"white\",\"ticks\":\"\",\"title\":{\"standoff\":15},\"zerolinecolor\":\"white\",\"automargin\":true,\"zerolinewidth\":2},\"scene\":{\"xaxis\":{\"backgroundcolor\":\"#E5ECF6\",\"gridcolor\":\"white\",\"linecolor\":\"white\",\"showbackground\":true,\"ticks\":\"\",\"zerolinecolor\":\"white\",\"gridwidth\":2},\"yaxis\":{\"backgroundcolor\":\"#E5ECF6\",\"gridcolor\":\"white\",\"linecolor\":\"white\",\"showbackground\":true,\"ticks\":\"\",\"zerolinecolor\":\"white\",\"gridwidth\":2},\"zaxis\":{\"backgroundcolor\":\"#E5ECF6\",\"gridcolor\":\"white\",\"linecolor\":\"white\",\"showbackground\":true,\"ticks\":\"\",\"zerolinecolor\":\"white\",\"gridwidth\":2}},\"shapedefaults\":{\"line\":{\"color\":\"#2a3f5f\"}},\"annotationdefaults\":{\"arrowcolor\":\"#2a3f5f\",\"arrowhead\":0,\"arrowwidth\":1},\"geo\":{\"bgcolor\":\"white\",\"landcolor\":\"#E5ECF6\",\"subunitcolor\":\"white\",\"showland\":true,\"showlakes\":true,\"lakecolor\":\"white\"},\"title\":{\"x\":0.05},\"mapbox\":{\"style\":\"light\"}}},\"legend\":{\"tracegroupgap\":0},\"margin\":{\"t\":60}},                        {\"responsive\": true}                    ).then(function(){\n",
       "                            \n",
       "var gd = document.getElementById('a7cf99ce-1853-4a0d-a916-7465d6507401');\n",
       "var x = new MutationObserver(function (mutations, observer) {{\n",
       "        var display = window.getComputedStyle(gd).display;\n",
       "        if (!display || display === 'none') {{\n",
       "            console.log([gd, 'removed!']);\n",
       "            Plotly.purge(gd);\n",
       "            observer.disconnect();\n",
       "        }}\n",
       "}});\n",
       "\n",
       "// Listen for the removal of the full notebook cells\n",
       "var notebookContainer = gd.closest('#notebook-container');\n",
       "if (notebookContainer) {{\n",
       "    x.observe(notebookContainer, {childList: true});\n",
       "}}\n",
       "\n",
       "// Listen for the clearing of the current output cell\n",
       "var outputEl = gd.closest('.output');\n",
       "if (outputEl) {{\n",
       "    x.observe(outputEl, {childList: true});\n",
       "}}\n",
       "\n",
       "                        })                };                });            </script>        </div>"
      ]
     },
     "metadata": {},
     "output_type": "display_data"
    }
   ],
   "source": [
    "# treemap\n",
    "px.treemap(population,\n",
    "          path=[\"Nom de la commune\"],\n",
    "          values=\"Population totale\")"
   ]
  },
  {
   "cell_type": "code",
   "execution_count": 6,
   "id": "20a3d1c5-d186-4db2-a5b6-3ff687cd60e7",
   "metadata": {
    "tags": []
   },
   "outputs": [
    {
     "data": {
      "text/plain": [
       "\u001b[1;31mSignature:\u001b[0m\n",
       "\u001b[0mpx\u001b[0m\u001b[1;33m.\u001b[0m\u001b[0mtreemap\u001b[0m\u001b[1;33m(\u001b[0m\u001b[1;33m\n",
       "\u001b[0m    \u001b[0mdata_frame\u001b[0m\u001b[1;33m=\u001b[0m\u001b[1;32mNone\u001b[0m\u001b[1;33m,\u001b[0m\u001b[1;33m\n",
       "\u001b[0m    \u001b[0mnames\u001b[0m\u001b[1;33m=\u001b[0m\u001b[1;32mNone\u001b[0m\u001b[1;33m,\u001b[0m\u001b[1;33m\n",
       "\u001b[0m    \u001b[0mvalues\u001b[0m\u001b[1;33m=\u001b[0m\u001b[1;32mNone\u001b[0m\u001b[1;33m,\u001b[0m\u001b[1;33m\n",
       "\u001b[0m    \u001b[0mparents\u001b[0m\u001b[1;33m=\u001b[0m\u001b[1;32mNone\u001b[0m\u001b[1;33m,\u001b[0m\u001b[1;33m\n",
       "\u001b[0m    \u001b[0mids\u001b[0m\u001b[1;33m=\u001b[0m\u001b[1;32mNone\u001b[0m\u001b[1;33m,\u001b[0m\u001b[1;33m\n",
       "\u001b[0m    \u001b[0mpath\u001b[0m\u001b[1;33m=\u001b[0m\u001b[1;32mNone\u001b[0m\u001b[1;33m,\u001b[0m\u001b[1;33m\n",
       "\u001b[0m    \u001b[0mcolor\u001b[0m\u001b[1;33m=\u001b[0m\u001b[1;32mNone\u001b[0m\u001b[1;33m,\u001b[0m\u001b[1;33m\n",
       "\u001b[0m    \u001b[0mcolor_continuous_scale\u001b[0m\u001b[1;33m=\u001b[0m\u001b[1;32mNone\u001b[0m\u001b[1;33m,\u001b[0m\u001b[1;33m\n",
       "\u001b[0m    \u001b[0mrange_color\u001b[0m\u001b[1;33m=\u001b[0m\u001b[1;32mNone\u001b[0m\u001b[1;33m,\u001b[0m\u001b[1;33m\n",
       "\u001b[0m    \u001b[0mcolor_continuous_midpoint\u001b[0m\u001b[1;33m=\u001b[0m\u001b[1;32mNone\u001b[0m\u001b[1;33m,\u001b[0m\u001b[1;33m\n",
       "\u001b[0m    \u001b[0mcolor_discrete_sequence\u001b[0m\u001b[1;33m=\u001b[0m\u001b[1;32mNone\u001b[0m\u001b[1;33m,\u001b[0m\u001b[1;33m\n",
       "\u001b[0m    \u001b[0mcolor_discrete_map\u001b[0m\u001b[1;33m=\u001b[0m\u001b[1;32mNone\u001b[0m\u001b[1;33m,\u001b[0m\u001b[1;33m\n",
       "\u001b[0m    \u001b[0mhover_name\u001b[0m\u001b[1;33m=\u001b[0m\u001b[1;32mNone\u001b[0m\u001b[1;33m,\u001b[0m\u001b[1;33m\n",
       "\u001b[0m    \u001b[0mhover_data\u001b[0m\u001b[1;33m=\u001b[0m\u001b[1;32mNone\u001b[0m\u001b[1;33m,\u001b[0m\u001b[1;33m\n",
       "\u001b[0m    \u001b[0mcustom_data\u001b[0m\u001b[1;33m=\u001b[0m\u001b[1;32mNone\u001b[0m\u001b[1;33m,\u001b[0m\u001b[1;33m\n",
       "\u001b[0m    \u001b[0mlabels\u001b[0m\u001b[1;33m=\u001b[0m\u001b[1;32mNone\u001b[0m\u001b[1;33m,\u001b[0m\u001b[1;33m\n",
       "\u001b[0m    \u001b[0mtitle\u001b[0m\u001b[1;33m=\u001b[0m\u001b[1;32mNone\u001b[0m\u001b[1;33m,\u001b[0m\u001b[1;33m\n",
       "\u001b[0m    \u001b[0mtemplate\u001b[0m\u001b[1;33m=\u001b[0m\u001b[1;32mNone\u001b[0m\u001b[1;33m,\u001b[0m\u001b[1;33m\n",
       "\u001b[0m    \u001b[0mwidth\u001b[0m\u001b[1;33m=\u001b[0m\u001b[1;32mNone\u001b[0m\u001b[1;33m,\u001b[0m\u001b[1;33m\n",
       "\u001b[0m    \u001b[0mheight\u001b[0m\u001b[1;33m=\u001b[0m\u001b[1;32mNone\u001b[0m\u001b[1;33m,\u001b[0m\u001b[1;33m\n",
       "\u001b[0m    \u001b[0mbranchvalues\u001b[0m\u001b[1;33m=\u001b[0m\u001b[1;32mNone\u001b[0m\u001b[1;33m,\u001b[0m\u001b[1;33m\n",
       "\u001b[0m    \u001b[0mmaxdepth\u001b[0m\u001b[1;33m=\u001b[0m\u001b[1;32mNone\u001b[0m\u001b[1;33m,\u001b[0m\u001b[1;33m\n",
       "\u001b[0m\u001b[1;33m)\u001b[0m \u001b[1;33m->\u001b[0m \u001b[0mplotly\u001b[0m\u001b[1;33m.\u001b[0m\u001b[0mgraph_objs\u001b[0m\u001b[1;33m.\u001b[0m\u001b[0m_figure\u001b[0m\u001b[1;33m.\u001b[0m\u001b[0mFigure\u001b[0m\u001b[1;33m\u001b[0m\u001b[1;33m\u001b[0m\u001b[0m\n",
       "\u001b[1;31mDocstring:\u001b[0m\n",
       "    A treemap plot represents hierarchial data as nested rectangular\n",
       "    sectors.\n",
       "    \n",
       "Parameters\n",
       "----------\n",
       "data_frame: DataFrame or array-like or dict\n",
       "    This argument needs to be passed for column names (and not keyword\n",
       "    names) to be used. Array-like and dict are tranformed internally to a\n",
       "    pandas DataFrame. Optional: if missing, a DataFrame gets constructed\n",
       "    under the hood using the other arguments.\n",
       "names: str or int or Series or array-like\n",
       "    Either a name of a column in `data_frame`, or a pandas Series or\n",
       "    array_like object. Values from this column or array_like are used as\n",
       "    labels for sectors.\n",
       "values: str or int or Series or array-like\n",
       "    Either a name of a column in `data_frame`, or a pandas Series or\n",
       "    array_like object. Values from this column or array_like are used to\n",
       "    set values associated to sectors.\n",
       "parents: str or int or Series or array-like\n",
       "    Either a name of a column in `data_frame`, or a pandas Series or\n",
       "    array_like object. Values from this column or array_like are used as\n",
       "    parents in sunburst and treemap charts.\n",
       "ids: str or int or Series or array-like\n",
       "    Either a name of a column in `data_frame`, or a pandas Series or\n",
       "    array_like object. Values from this column or array_like are used to\n",
       "    set ids of sectors\n",
       "path: list of str or int, or Series or array-like\n",
       "    Either names of columns in `data_frame`, or pandas Series, or\n",
       "    array_like objects List of columns names or columns of a rectangular\n",
       "    dataframe defining the hierarchy of sectors, from root to leaves. An\n",
       "    error is raised if path AND ids or parents is passed\n",
       "color: str or int or Series or array-like\n",
       "    Either a name of a column in `data_frame`, or a pandas Series or\n",
       "    array_like object. Values from this column or array_like are used to\n",
       "    assign color to marks.\n",
       "color_continuous_scale: list of str\n",
       "    Strings should define valid CSS-colors This list is used to build a\n",
       "    continuous color scale when the column denoted by `color` contains\n",
       "    numeric data. Various useful color scales are available in the\n",
       "    `plotly.express.colors` submodules, specifically\n",
       "    `plotly.express.colors.sequential`, `plotly.express.colors.diverging`\n",
       "    and `plotly.express.colors.cyclical`.\n",
       "range_color: list of two numbers\n",
       "    If provided, overrides auto-scaling on the continuous color scale.\n",
       "color_continuous_midpoint: number (default `None`)\n",
       "    If set, computes the bounds of the continuous color scale to have the\n",
       "    desired midpoint. Setting this value is recommended when using\n",
       "    `plotly.express.colors.diverging` color scales as the inputs to\n",
       "    `color_continuous_scale`.\n",
       "color_discrete_sequence: list of str\n",
       "    Strings should define valid CSS-colors. When `color` is set and the\n",
       "    values in the corresponding column are not numeric, values in that\n",
       "    column are assigned colors by cycling through `color_discrete_sequence`\n",
       "    in the order described in `category_orders`, unless the value of\n",
       "    `color` is a key in `color_discrete_map`. Various useful color\n",
       "    sequences are available in the `plotly.express.colors` submodules,\n",
       "    specifically `plotly.express.colors.qualitative`.\n",
       "color_discrete_map: dict with str keys and str values (default `{}`)\n",
       "    String values should define valid CSS-colors Used to override\n",
       "    `color_discrete_sequence` to assign a specific colors to marks\n",
       "    corresponding with specific values. Keys in `color_discrete_map` should\n",
       "    be values in the column denoted by `color`. Alternatively, if the\n",
       "    values of `color` are valid colors, the string `'identity'` may be\n",
       "    passed to cause them to be used directly.\n",
       "hover_name: str or int or Series or array-like\n",
       "    Either a name of a column in `data_frame`, or a pandas Series or\n",
       "    array_like object. Values from this column or array_like appear in bold\n",
       "    in the hover tooltip.\n",
       "hover_data: list of str or int, or Series or array-like, or dict\n",
       "    Either a list of names of columns in `data_frame`, or pandas Series, or\n",
       "    array_like objects or a dict with column names as keys, with values\n",
       "    True (for default formatting) False (in order to remove this column\n",
       "    from hover information), or a formatting string, for example ':.3f' or\n",
       "    '|%a' or list-like data to appear in the hover tooltip or tuples with a\n",
       "    bool or formatting string as first element, and list-like data to\n",
       "    appear in hover as second element Values from these columns appear as\n",
       "    extra data in the hover tooltip.\n",
       "custom_data: list of str or int, or Series or array-like\n",
       "    Either names of columns in `data_frame`, or pandas Series, or\n",
       "    array_like objects Values from these columns are extra data, to be used\n",
       "    in widgets or Dash callbacks for example. This data is not user-visible\n",
       "    but is included in events emitted by the figure (lasso selection etc.)\n",
       "labels: dict with str keys and str values (default `{}`)\n",
       "    By default, column names are used in the figure for axis titles, legend\n",
       "    entries and hovers. This parameter allows this to be overridden. The\n",
       "    keys of this dict should correspond to column names, and the values\n",
       "    should correspond to the desired label to be displayed.\n",
       "title: str\n",
       "    The figure title.\n",
       "template: str or dict or plotly.graph_objects.layout.Template instance\n",
       "    The figure template name (must be a key in plotly.io.templates) or\n",
       "    definition.\n",
       "width: int (default `None`)\n",
       "    The figure width in pixels.\n",
       "height: int (default `None`)\n",
       "    The figure height in pixels.\n",
       "branchvalues: str\n",
       "    'total' or 'remainder' Determines how the items in `values` are summed.\n",
       "    Whenset to 'total', items in `values` are taken to be valueof all its\n",
       "    descendants. When set to 'remainder', itemsin `values` corresponding to\n",
       "    the root and the branches:sectors are taken to be the extra part not\n",
       "    part of thesum of the values at their leaves.\n",
       "maxdepth: int\n",
       "    Positive integer Sets the number of rendered sectors from any given\n",
       "    `level`. Set `maxdepth` to -1 to render all thelevels in the hierarchy.\n",
       "\n",
       "Returns\n",
       "-------\n",
       "    plotly.graph_objects.Figure\n",
       "\u001b[1;31mFile:\u001b[0m      c:\\users\\gael.lisador\\appdata\\local\\anaconda3\\lib\\site-packages\\plotly\\express\\_chart_types.py\n",
       "\u001b[1;31mType:\u001b[0m      function"
      ]
     },
     "metadata": {},
     "output_type": "display_data"
    }
   ],
   "source": [
    "px.treemap?"
   ]
  }
 ],
 "metadata": {
  "kernelspec": {
   "display_name": "Python 3 (ipykernel)",
   "language": "python",
   "name": "python3"
  },
  "language_info": {
   "codemirror_mode": {
    "name": "ipython",
    "version": 3
   },
   "file_extension": ".py",
   "mimetype": "text/x-python",
   "name": "python",
   "nbconvert_exporter": "python",
   "pygments_lexer": "ipython3",
   "version": "3.11.5"
  }
 },
 "nbformat": 4,
 "nbformat_minor": 5
}
